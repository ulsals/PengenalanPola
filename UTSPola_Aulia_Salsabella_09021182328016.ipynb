{
  "nbformat": 4,
  "nbformat_minor": 0,
  "metadata": {
    "colab": {
      "provenance": [],
      "authorship_tag": "ABX9TyPFOovZB9pDwZ6BHt9msCDR",
      "include_colab_link": true
    },
    "kernelspec": {
      "name": "python3",
      "display_name": "Python 3"
    },
    "language_info": {
      "name": "python"
    }
  },
  "cells": [
    {
      "cell_type": "markdown",
      "metadata": {
        "id": "view-in-github",
        "colab_type": "text"
      },
      "source": [
        "<a href=\"https://colab.research.google.com/github/ulsals/PengenalanPola/blob/main/UTSPola_Aulia_Salsabella_09021182328016.ipynb\" target=\"_parent\"><img src=\"https://colab.research.google.com/assets/colab-badge.svg\" alt=\"Open In Colab\"/></a>"
      ]
    },
    {
      "cell_type": "markdown",
      "source": [
        "UTS Pengenalan Pola\n",
        "\n",
        "Nama : Aulia Salsabella\n",
        "\n",
        "NIM  : 09021182328016"
      ],
      "metadata": {
        "id": "V7xi4o_Bpn1i"
      }
    },
    {
      "cell_type": "code",
      "execution_count": 1,
      "metadata": {
        "id": "q-csYF5wpgyv"
      },
      "outputs": [],
      "source": [
        "from google.colab import drive\n",
        "import cv2\n",
        "import math"
      ]
    },
    {
      "cell_type": "code",
      "source": [
        "drive.mount('/content/gdrive')\n",
        "\n",
        "!cp -r /content/gdrive/MyDrive/Pengenalan_Pola/Gambar_UTS /content"
      ],
      "metadata": {
        "colab": {
          "base_uri": "https://localhost:8080/"
        },
        "id": "lZ_YmOzsqIzm",
        "outputId": "2f270e83-7377-4a5c-984a-8927a628524f"
      },
      "execution_count": 7,
      "outputs": [
        {
          "output_type": "stream",
          "name": "stdout",
          "text": [
            "Drive already mounted at /content/gdrive; to attempt to forcibly remount, call drive.mount(\"/content/gdrive\", force_remount=True).\n"
          ]
        }
      ]
    },
    {
      "cell_type": "code",
      "source": [
        "def transpose(matrix):\n",
        "    \"\"\"\n",
        "    Fungsi untuk melakukan transpose matriks.\n",
        "    \"\"\"\n",
        "    # Mengambil dimensi matriks asli\n",
        "    rows = len(matrix)\n",
        "    cols = len(matrix[0])\n",
        "    # Membuat matriks baru (kosong) dengan dimensi yang sudah ditukar\n",
        "    transposed = [[0 for _ in range(rows)] for _ in range(cols)]\n",
        "    for i in range(rows):\n",
        "        for j in range(cols):\n",
        "            transposed[j][i] = matrix[i][j]\n",
        "    return transposed"
      ],
      "metadata": {
        "id": "tbiWCI9PtwGA"
      },
      "execution_count": 8,
      "outputs": []
    },
    {
      "cell_type": "code",
      "source": [
        "def multiply_matrices(A, B):\n",
        "    \"\"\"\n",
        "    Fungsi untuk melakukan perkalian antara dua matriks (A * B).\n",
        "    \"\"\"\n",
        "    # Mengambil dimensi kedua matriks\n",
        "    rows_A = len(A)\n",
        "    cols_A = len(A[0])\n",
        "    rows_B = len(B)\n",
        "    cols_B = len(B[0])\n",
        "\n",
        "    # Syarat perkalian matriks: jumlah kolom matriks A harus sama dengan jumlah baris matriks B.\n",
        "    if cols_A != rows_B:\n",
        "        raise ValueError(\"Ukuran matriks tidak kompatibel untuk perkalian\")\n",
        "\n",
        "    # Membuat matriks hasil yang diisi dengan nol\n",
        "    result = [[0 for _ in range(cols_B)] for _ in range(rows_A)]\n",
        "    for i in range(rows_A):\n",
        "        for j in range(cols_B):\n",
        "            for k in range(cols_A):\n",
        "                result[i][j] += A[i][k] * B[k][j]\n",
        "    return result"
      ],
      "metadata": {
        "id": "gAkecx72udh7"
      },
      "execution_count": 9,
      "outputs": []
    },
    {
      "cell_type": "code",
      "source": [
        "def mean_vector(matrix):\n",
        "    \"\"\"\n",
        "    Fungsi untuk menghitung vektor rata-rata dari setiap kolom matriks.\n",
        "    Langkah penting pertama dalam PCA.\n",
        "    \"\"\"\n",
        "    rows = len(matrix)\n",
        "    cols = len(matrix[0])\n",
        "    # Membuat list kosong untuk menampung nilai rata-rata setiap kolom\n",
        "    mean_vec = [0] * cols\n",
        "    for j in range(cols):\n",
        "        col_sum = 0\n",
        "        # Loop untuk setiap baris di dalam kolom tersebut\n",
        "        for i in range(rows):\n",
        "            col_sum += matrix[i][j]\n",
        "        # Hitung rata-rata dan simpan\n",
        "        mean_vec[j] = col_sum / rows\n",
        "    return mean_vec"
      ],
      "metadata": {
        "id": "ZZl_OeVowgcj"
      },
      "execution_count": 10,
      "outputs": []
    },
    {
      "cell_type": "code",
      "source": [
        "def subtract_mean(matrix, mean_vec):\n",
        "    \"\"\"\n",
        "    Fungsi untuk melakukan 'mean centering'.\n",
        "    Setiap elemen di matriks dikurangi dengan nilai rata-rata kolomnya.\n",
        "    \"\"\"\n",
        "    rows = len(matrix)\n",
        "    cols = len(matrix[0])\n",
        "    # Membuat matriks baru untuk data yang sudah di-center\n",
        "    centered_matrix = [[0 for _ in range(cols)] for _ in range(rows)]\n",
        "    for i in range(rows):\n",
        "        for j in range(cols):\n",
        "            centered_matrix[i][j] = matrix[i][j] - mean_vec[j]\n",
        "    return centered_matrix"
      ],
      "metadata": {
        "id": "hBR1LZVbxqBd"
      },
      "execution_count": 11,
      "outputs": []
    },
    {
      "cell_type": "code",
      "source": [
        "def power_iteration(matrix, iterations=100):\n",
        "    \"\"\"\n",
        "    Fungsi untuk mencari eigenvector dominan.\n",
        "    \"\"\"\n",
        "    rows = len(matrix)\n",
        "    # mulai dari vektor acak (baris 1)\n",
        "    b_k = [1.0 for _ in range(rows)]\n",
        "\n",
        "    # iterasi\n",
        "    for _ in range(iterations):\n",
        "        # Kalikan matriks dengan vektor: Ax = A * b_k\n",
        "        Ax_b_k = [sum(matrix[i][j] * b_k[j] for j in range(rows)) for i in range(rows)]\n",
        "\n",
        "        # Hitung magnitudo (panjang) dari vektor hasil\n",
        "        magnitude = math.sqrt(sum(val**2 for val in Ax_b_k))\n",
        "\n",
        "        # Normalisasi vektor\n",
        "        if magnitude == 0: return [0]*rows # Menghindari pembagian dengan nol\n",
        "        b_k = [val / magnitude for val in Ax_b_k]\n",
        "\n",
        "    return b_k"
      ],
      "metadata": {
        "id": "LXCIJzDzyniv"
      },
      "execution_count": 12,
      "outputs": []
    },
    {
      "cell_type": "code",
      "source": [
        "def get_pca_feature(image_paths):\n",
        "    \"\"\"\n",
        "    Fungsi utama untuk menghitung fitur PCA dari sekumpulan gambar.\n",
        "    \"\"\"\n",
        "    # Muat semua gambar\n",
        "    TARGET_SIZE = (32, 32)\n",
        "\n",
        "    data_matrix = []\n",
        "    print(\"Membaca, mengubah ukuran, dan meratakan gambar...\")\n",
        "    for path in image_paths:\n",
        "        img = cv2.imread(path, cv2.IMREAD_GRAYSCALE)\n",
        "        if img is None:\n",
        "            print(f\"Gagal memuat gambar: {path}\")\n",
        "            continue\n",
        "\n",
        "        # Ubah ukuran gambar ke TARGET_SIZE\n",
        "        img_resized = cv2.resize(img, TARGET_SIZE)\n",
        "\n",
        "        # Gunakan img_resized untuk proses selanjutnya\n",
        "        flat_vector = [pixel / 255.0 for row in img_resized for pixel in row]\n",
        "        data_matrix.append(flat_vector)\n",
        "\n",
        "    if not data_matrix:\n",
        "        print(\"Tidak ada data gambar yang berhasil diproses.\")\n",
        "        return None\n",
        "\n",
        "    print(\"Menghitung rata-rata dan sentralisasi data...\")\n",
        "    mean_vec = mean_vector(data_matrix)\n",
        "    centered_data = subtract_mean(data_matrix, mean_vec)\n",
        "    print(\"Menghitung matriks kovarians...\")\n",
        "    centered_data_T = transpose(centered_data)\n",
        "    covariance_matrix = multiply_matrices(centered_data_T, centered_data)\n",
        "    print(\"Mencari Principal Component pertama (Eigenvector)...\")\n",
        "    principal_component = power_iteration(covariance_matrix)\n",
        "    print(\"Memproyeksikan data untuk mendapatkan fitur PCA...\")\n",
        "    pc_matrix = [[val] for val in principal_component]\n",
        "    pca_features = multiply_matrices(centered_data, pc_matrix)\n",
        "    return pca_features"
      ],
      "metadata": {
        "id": "GysejQfk0AS_"
      },
      "execution_count": 19,
      "outputs": []
    },
    {
      "cell_type": "code",
      "source": [
        "def get_svd_feature(image_path):\n",
        "    \"\"\"\n",
        "    Fungsi utama untuk menghitung fitur SVD  dari sebuah gambar.\n",
        "    \"\"\"\n",
        "    # Gambar\n",
        "    i# Muat semua gambar\n",
        "    TARGET_SIZE = (32, 32)\n",
        "\n",
        "    data_matrix = []\n",
        "    print(\"Membaca, mengubah ukuran, dan meratakan gambar...\")\n",
        "    for path in image_paths:\n",
        "        img = cv2.imread(path, cv2.IMREAD_GRAYSCALE)\n",
        "        if img is None:\n",
        "            print(f\"Gagal memuat gambar: {path}\")\n",
        "            continue\n",
        "\n",
        "        # Ubah ukuran gambar ke TARGET_SIZE\n",
        "        img_resized = cv2.resize(img, TARGET_SIZE)\n",
        "\n",
        "        # Gunakan img_resized untuk proses selanjutnya\n",
        "        flat_vector = [pixel / 255.0 for row in img_resized for pixel in row]\n",
        "        data_matrix.append(flat_vector)\n",
        "\n",
        "    if not data_matrix:\n",
        "        print(\"Tidak ada data gambar yang berhasil diproses.\")\n",
        "        return None\n",
        "\n",
        "    # Hitung matriks A_transpose * A dan eigenvalue dari A^T * A.\n",
        "    A_T = transpose(A)\n",
        "    AtA = multiply_matrices(A_T, A)\n",
        "\n",
        "    # Cari eigenvector dominan dari matriks A^T * A.\n",
        "    eigenvector = power_iteration(AtA)\n",
        "\n",
        "    # Hitung eigenvalue yang bersesuaian dengan eigenvector tersebut.\n",
        "    # Rumus: lambda = (Ax * x) / (x * x).\n",
        "    # Jadi, lambda = Ax * x (dot product).\n",
        "    Ax = [sum(AtA[i][j] * eigenvector[j] for j in range(len(AtA))) for i in range(len(AtA))]\n",
        "    eigenvalue = sum(Ax[i] * eigenvector[i] for i in range(len(eigenvector)))\n",
        "\n",
        "    # Singular value (sigma) terbesar adalah akar kuadrat dari eigenvalue terbesar.\n",
        "    singular_value = math.sqrt(abs(eigenvalue)) # abs() dipakai untuk menghindari error math domain\n",
        "\n",
        "    return singular_value"
      ],
      "metadata": {
        "id": "rs05VuRl2qF6"
      },
      "execution_count": 14,
      "outputs": []
    },
    {
      "cell_type": "code",
      "source": [
        "LOCAL_FOLDER_PATH = \"/content/Gambar_UTS/\"\n",
        "\n",
        "filenames = [\"Lena512warna.bmp\", \"baboon24.bmp\", \"bird.bmp\",\"girl-warna.bmp\",\"peppers512warna.bmp\"]\n",
        "\n",
        "# Menggabungkan path folder dengan nama file untuk membuat path lengkap\n",
        "image_full_paths = [f\"{LOCAL_FOLDER_PATH}{fname}\" for fname in filenames]"
      ],
      "metadata": {
        "id": "sK06-kGx5poZ"
      },
      "execution_count": 17,
      "outputs": []
    },
    {
      "cell_type": "code",
      "source": [
        "# --- Menjalankan Analisis PCA ---\n",
        "print(\"=\"*30)\n",
        "print(\"MENGHITUNG FITUR PCA\")\n",
        "print(\"=\"*30)\n",
        "pca_features = get_pca_feature(image_full_paths)\n",
        "\n",
        "print(\"\\n--- HASIL FITUR PCA ---\")\n",
        "for i, path in enumerate(filenames):\n",
        "    print(f\"Gambar '{path}': Fitur PCA = {pca_features[i][0]:.4f}\")"
      ],
      "metadata": {
        "colab": {
          "base_uri": "https://localhost:8080/"
        },
        "id": "vftbshwO6U4S",
        "outputId": "3489281c-524d-4d8c-9745-f4c7f66f0797"
      },
      "execution_count": 20,
      "outputs": [
        {
          "output_type": "stream",
          "name": "stdout",
          "text": [
            "==============================\n",
            "MENGHITUNG FITUR PCA\n",
            "==============================\n",
            "Membaca, mengubah ukuran, dan meratakan gambar...\n",
            "Menghitung rata-rata dan sentralisasi data...\n",
            "Menghitung matriks kovarians...\n",
            "Mencari Principal Component pertama (Eigenvector)...\n",
            "Memproyeksikan data untuk mendapatkan fitur PCA...\n",
            "\n",
            "--- HASIL FITUR PCA ---\n",
            "Gambar 'Lena512warna.bmp': Fitur PCA = -0.1024\n",
            "Gambar 'baboon24.bmp': Fitur PCA = -0.7021\n",
            "Gambar 'bird.bmp': Fitur PCA = -0.9345\n",
            "Gambar 'girl-warna.bmp': Fitur PCA = 5.9487\n",
            "Gambar 'peppers512warna.bmp': Fitur PCA = -4.2096\n"
          ]
        }
      ]
    },
    {
      "cell_type": "code",
      "source": [
        "# --- Menjalankan Analisis SVD ---\n",
        "print(\"\\n\" + \"=\"*30)\n",
        "print(\"MENGHITUNG FITUR SVD\")\n",
        "print(\"=\"*30)\n",
        "print(\"\\n--- HASIL FITUR SVD  ---\")\n",
        "for path in image_full_paths:\n",
        "    svd_feature = get_svd_feature(path)\n",
        "    filename = path.split('/')[-1]\n",
        "    print(f\"Gambar '{filename}': Fitur SVD = {svd_feature:.4f}\")"
      ],
      "metadata": {
        "colab": {
          "base_uri": "https://localhost:8080/"
        },
        "id": "Ti6CJwPB81cH",
        "outputId": "45912a73-e8b2-432f-d873-7a9ea756fbb1"
      },
      "execution_count": 21,
      "outputs": [
        {
          "output_type": "stream",
          "name": "stdout",
          "text": [
            "\n",
            "==============================\n",
            "MENGHITUNG FITUR SVD\n",
            "==============================\n",
            "\n",
            "--- HASIL FITUR SVD  ---\n",
            "Gambar 'Lena512warna.bmp': Fitur SVD = 253.8671\n",
            "Gambar 'baboon24.bmp': Fitur SVD = 263.1416\n",
            "Gambar 'bird.bmp': Fitur SVD = 130.2107\n",
            "Gambar 'girl-warna.bmp': Fitur SVD = 165.3048\n",
            "Gambar 'peppers512warna.bmp': Fitur SVD = 238.9472\n"
          ]
        }
      ]
    }
  ]
}